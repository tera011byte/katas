{
 "metadata": {
  "orig_nbformat": 4,
  "kernelspec": {
   "name": "python3",
   "display_name": "Python 3",
   "language": "python"
  }
 },
 "nbformat": 4,
 "nbformat_minor": 2,
 "cells": [
  {
   "source": [
    "# Problemas para kata 03\n",
    "\n",
    "## Problema 1 \n",
    "\n",
    "Para este ejercicio, escribirás una lógica condicional que imprima una advertencia si un asteroide se acerca a la Tierra demasiado rápido. La velocidad del asteroide varía dependiendo de lo cerca que esté del sol, y cualquier velocidad superior a 25 kilómetros por segundo (km/s) merece una advertencia."
   ],
   "cell_type": "markdown",
   "metadata": {}
  },
  {
   "cell_type": "code",
   "execution_count": 6,
   "metadata": {},
   "outputs": [
    {
     "output_type": "stream",
     "name": "stdout",
     "text": [
      "Alerta el asteroide se acerca demasiado RAPIDO\n"
     ]
    }
   ],
   "source": [
    "velocidad = input(\"Agrega la velocidad del asteroide solo la unidad en km/s\")\n",
    "if float(velocidad) > 25:\n",
    "    print(\"Alerta el asteroide se acerca demasiado RAPIDO\")\n",
    "else:\n",
    "    print(\"Descuida NO se acerca tan rapido\")"
   ]
  },
  {
   "source": [
    "## Problema 2 \n",
    "\n",
    "Si un asteroide entra en la atmósfera de la Tierra a una velocidad mayor o igual a 20 km/s, a veces produce un rayo de luz que se puede ver desde la Tierra. Escribe la lógica condicional que usa declaraciones if, else, y elif para alertar a las personas de todo el mundo que deben buscar un asteroide en el cielo. ¡Hay uno que se dirige a la tierra ahora a una velocidad de 19 km/s!"
   ],
   "cell_type": "markdown",
   "metadata": {}
  },
  {
   "cell_type": "code",
   "execution_count": 13,
   "metadata": {},
   "outputs": [
    {
     "output_type": "stream",
     "name": "stdout",
     "text": [
      "Descuida NO se acerca tan rapido\n"
     ]
    }
   ],
   "source": [
    "velocidad = 19\n",
    "\n",
    "if velocidad > 25:\n",
    "    print(\"Mira el cielo es un rayo de luz.\")\n",
    "elif velocidad == 20:\n",
    "    print(\"Mira el cielo es un rayo de luz.\")\n",
    "else:\n",
    "    print(\"Descuida NO se acerca tan rapido\")"
   ]
  },
  {
   "source": [
    "## Problema 3\n",
    "En este ejercicio, aprenderás información más matizada sobre cuándo los asteroides representan un peligro para la Tierra, y utilizarás esa información para mejorar nuestro sistema de advertencia. Aquí está la nueva información que necesitas saber:\n",
    "\n",
    "*Los asteroides de menos de 25 metros en su dimensión más grande probablemente se quemarán a medida que entren en la atmósfera de la Tierra.\n",
    "\n",
    "    Si una pieza de un asteroide que es más grande que 25 metros pero más pequeña que 1000 metros golpeara la Tierra, causaría mucho daño.\n",
    "\n",
    "También discutimos en el ejercicio anterior que:\n",
    "\n",
    "    La velocidad del asteroide varía en función de lo cerca que esté del sol, y cualquier velocidad superior a 25 kilómetros por segundo (km/s) merece una advertencia.\n",
    "    Si un asteroide entra en la atmósfera de la Tierra a una velocidad mayor o igual a 20 km/s, a veces produce un rayo de luz que se puede ver desde la Tierra.\n",
    "\n",
    "Usando toda esta información, escribe un programa que emita la advertencia o información correcta a la gente de la Tierra, según la velocidad y el tamaño de un asteroide. Utiliza instrucciones if, else, y elif, así como los operadores and y or."
   ],
   "cell_type": "markdown",
   "metadata": {}
  },
  {
   "cell_type": "code",
   "execution_count": 15,
   "metadata": {},
   "outputs": [
    {
     "output_type": "stream",
     "name": "stdout",
     "text": [
      "preparense para el impacto CAUSARA MUCHO DAÑO\n"
     ]
    }
   ],
   "source": [
    "velocidad = 22\n",
    "tamaño = 25\n",
    "\n",
    "if velocidad > 25:\n",
    "    if tamaño > 25 or tamaño < 1000:\n",
    "        print(\"preparense para el impacto CAUSARA MUCHO DAÑO\")\n",
    "    else:\n",
    "        print(\"Alerta el asteroide se acerca demasiado RAPIDO\")\n",
    "elif velocidad >= 20:\n",
    "    if tamaño > 25 or tamaño < 1000:\n",
    "        print(\"preparense para el impacto CAUSARA MUCHO DAÑO\")\n",
    "    else:\n",
    "        print(\"Mira el cielo es un rayo de luz.\")\n",
    "else:\n",
    "    print(\"Descuida NO se acerca tan rapido\")\n"
   ]
  },
  {
   "cell_type": "code",
   "execution_count": null,
   "metadata": {},
   "outputs": [],
   "source": []
  }
 ]
}