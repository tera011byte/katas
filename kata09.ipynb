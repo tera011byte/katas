{
 "cells": [
  {
   "cell_type": "markdown",
   "source": [
    "# Ejercicio: Uso de funciones en Python\n",
    "## Ejercicio 1: Trabajar con argumentos en funciones\n",
    "\n",
    "Los argumentos requeridos en las funciones se utilizan cuando las funciones necesitan que esos argumentos funcionen correctamente. En este ejercicio, construirás un informe de combustible que requiere información de varias ubicaciones de combustible en todo el cohete.\n",
    "\n",
    "Comienza por crear una función que necesite tres lecturas de combustible y devuelva un informe:"
   ],
   "metadata": {}
  },
  {
   "cell_type": "code",
   "execution_count": 1,
   "source": [
    "def informe(lectura1, lectura2, lectura3):\n",
    "    \n",
    "    return lectura1 + lectura2 + lectura3 / 3"
   ],
   "outputs": [],
   "metadata": {}
  },
  {
   "cell_type": "markdown",
   "source": [
    "\n",
    "\n",
    "Ahora que hemos definido la función de informes, vamos a comprobarlo. Para esta misión, los tanques no están llenos"
   ],
   "metadata": {}
  },
  {
   "cell_type": "code",
   "execution_count": 13,
   "source": [
    "print(f'Promedio de los tanques: {informe(0,0,0)}')"
   ],
   "outputs": [],
   "metadata": {}
  },
  {
   "cell_type": "markdown",
   "source": [
    "\n",
    "\n",
    "En lugar de simplemente crear el informe, la función también está calculando el promedio. Mejora la legibilidad extrayendo el cálculo promedio de la función en una nueva función para que el promedio se pueda hacer de forma independiente:\n"
   ],
   "metadata": {}
  },
  {
   "cell_type": "code",
   "execution_count": 15,
   "source": [
    "def promedio(lect1, lect2, lect3):\n",
    "    return lect1 + lect2 +lect3 / 3"
   ],
   "outputs": [],
   "metadata": {}
  },
  {
   "cell_type": "markdown",
   "source": [
    "\n",
    "\n",
    "Ahora actualiza la función de informes para llamando a la nueva función del promedio:\n"
   ],
   "metadata": {}
  },
  {
   "cell_type": "code",
   "execution_count": 17,
   "source": [
    "def informe_act(lectura1, lectura2, lectura3):\n",
    "    print(f'Informe de lecturas\\nLectura 1: {lectura1}\\nLectura 2: {lectura2}\\nLectura 3: {lectura3}')\n",
    "    promedio_lect = promedio(lectura1,lectura2,lectura3)\n",
    "    print(f\"Promedio de lecturas: {promedio_lect}\" )\n",
    "\n",
    "\n",
    "informe_act(10,20,30)\n"
   ],
   "outputs": [
    {
     "output_type": "stream",
     "name": "stdout",
     "text": [
      "Informe de lecturas\n",
      "Lectura 1: 10\n",
      "Lectura 2: 20\n",
      "Lectura 3: 30\n",
      "Promedio de lecturas: 40.0\n"
     ]
    }
   ],
   "metadata": {}
  }
 ],
 "metadata": {
  "orig_nbformat": 4,
  "kernelspec": {
   "name": "python3",
   "display_name": "Python 3",
   "language": "python"
  },
  "language_info": {
   "name": "python",
   "version": "3.8.6",
   "mimetype": "text/x-python",
   "codemirror_mode": {
    "name": "ipython",
    "version": 3
   },
   "pygments_lexer": "ipython3",
   "nbconvert_exporter": "python",
   "file_extension": ".py"
  }
 },
 "nbformat": 4,
 "nbformat_minor": 2
}